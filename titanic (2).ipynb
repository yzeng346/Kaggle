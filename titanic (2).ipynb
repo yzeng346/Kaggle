{
 "cells": [
  {
   "cell_type": "code",
   "execution_count": 1,
   "id": "df95586a",
   "metadata": {
    "_cell_guid": "b1076dfc-b9ad-4769-8c92-a6c4dae69d19",
    "_uuid": "8f2839f25d086af736a60e9eeb907d3b93b6e0e5",
    "execution": {
     "iopub.execute_input": "2025-08-02T21:36:34.095213Z",
     "iopub.status.busy": "2025-08-02T21:36:34.094864Z",
     "iopub.status.idle": "2025-08-02T21:36:36.133462Z",
     "shell.execute_reply": "2025-08-02T21:36:36.132476Z"
    },
    "papermill": {
     "duration": 2.044234,
     "end_time": "2025-08-02T21:36:36.135059",
     "exception": false,
     "start_time": "2025-08-02T21:36:34.090825",
     "status": "completed"
    },
    "tags": []
   },
   "outputs": [
    {
     "name": "stdout",
     "output_type": "stream",
     "text": [
      "/kaggle/input/titanic/train.csv\n",
      "/kaggle/input/titanic/test.csv\n",
      "/kaggle/input/titanic/gender_submission.csv\n"
     ]
    }
   ],
   "source": [
    "# This Python 3 environment comes with many helpful analytics libraries installed\n",
    "# It is defined by the kaggle/python Docker image: https://github.com/kaggle/docker-python\n",
    "# For example, here's several helpful packages to load\n",
    "\n",
    "import numpy as np # linear algebra\n",
    "import pandas as pd # data processing, CSV file I/O (e.g. pd.read_csv)\n",
    "\n",
    "# Input data files are available in the read-only \"../input/\" directory\n",
    "# For example, running this (by clicking run or pressing Shift+Enter) will list all files under the input directory\n",
    "\n",
    "import os\n",
    "for dirname, _, filenames in os.walk('/kaggle/input'):\n",
    "    for filename in filenames:\n",
    "        print(os.path.join(dirname, filename))\n",
    "\n",
    "# You can write up to 20GB to the current directory (/kaggle/working/) that gets preserved as output when you create a version using \"Save & Run All\" \n",
    "# You can also write temporary files to /kaggle/temp/, but they won't be saved outside of the current session"
   ]
  },
  {
   "cell_type": "code",
   "execution_count": 2,
   "id": "ffb9d6cd",
   "metadata": {
    "execution": {
     "iopub.execute_input": "2025-08-02T21:36:36.140911Z",
     "iopub.status.busy": "2025-08-02T21:36:36.140471Z",
     "iopub.status.idle": "2025-08-02T21:36:36.173755Z",
     "shell.execute_reply": "2025-08-02T21:36:36.172798Z"
    },
    "papermill": {
     "duration": 0.038038,
     "end_time": "2025-08-02T21:36:36.175642",
     "exception": false,
     "start_time": "2025-08-02T21:36:36.137604",
     "status": "completed"
    },
    "tags": []
   },
   "outputs": [],
   "source": [
    "train_data = pd.read_csv(\"/kaggle/input/titanic/train.csv\")\n",
    "test_data = pd.read_csv(\"/kaggle/input/titanic/test.csv\")\n"
   ]
  },
  {
   "cell_type": "markdown",
   "id": "b7f7b5e8",
   "metadata": {
    "papermill": {
     "duration": 0.001695,
     "end_time": "2025-08-02T21:36:36.179881",
     "exception": false,
     "start_time": "2025-08-02T21:36:36.178186",
     "status": "completed"
    },
    "tags": []
   },
   "source": [
    "Guess the pattern from gender\n"
   ]
  },
  {
   "cell_type": "code",
   "execution_count": 3,
   "id": "89f1a64f",
   "metadata": {
    "execution": {
     "iopub.execute_input": "2025-08-02T21:36:36.184751Z",
     "iopub.status.busy": "2025-08-02T21:36:36.184446Z",
     "iopub.status.idle": "2025-08-02T21:36:36.245005Z",
     "shell.execute_reply": "2025-08-02T21:36:36.243763Z"
    },
    "papermill": {
     "duration": 0.065235,
     "end_time": "2025-08-02T21:36:36.246934",
     "exception": false,
     "start_time": "2025-08-02T21:36:36.181699",
     "status": "completed"
    },
    "tags": []
   },
   "outputs": [
    {
     "data": {
      "text/html": [
       "<div>\n",
       "<style scoped>\n",
       "    .dataframe tbody tr th:only-of-type {\n",
       "        vertical-align: middle;\n",
       "    }\n",
       "\n",
       "    .dataframe tbody tr th {\n",
       "        vertical-align: top;\n",
       "    }\n",
       "\n",
       "    .dataframe thead th {\n",
       "        text-align: right;\n",
       "    }\n",
       "</style>\n",
       "<table border=\"1\" class=\"dataframe\">\n",
       "  <thead>\n",
       "    <tr style=\"text-align: right;\">\n",
       "      <th>Survived</th>\n",
       "      <th>0</th>\n",
       "      <th>1</th>\n",
       "    </tr>\n",
       "    <tr>\n",
       "      <th>Sex</th>\n",
       "      <th></th>\n",
       "      <th></th>\n",
       "    </tr>\n",
       "  </thead>\n",
       "  <tbody>\n",
       "    <tr>\n",
       "      <th>female</th>\n",
       "      <td>0.257962</td>\n",
       "      <td>0.742038</td>\n",
       "    </tr>\n",
       "    <tr>\n",
       "      <th>male</th>\n",
       "      <td>0.811092</td>\n",
       "      <td>0.188908</td>\n",
       "    </tr>\n",
       "  </tbody>\n",
       "</table>\n",
       "</div>"
      ],
      "text/plain": [
       "Survived         0         1\n",
       "Sex                         \n",
       "female    0.257962  0.742038\n",
       "male      0.811092  0.188908"
      ]
     },
     "execution_count": 3,
     "metadata": {},
     "output_type": "execute_result"
    }
   ],
   "source": [
    "gender_table = pd.crosstab(train_data['Sex'], train_data['Survived'], normalize='index')\n",
    "gender_table"
   ]
  },
  {
   "cell_type": "markdown",
   "id": "9d04e2d2",
   "metadata": {
    "papermill": {
     "duration": 0.001934,
     "end_time": "2025-08-02T21:36:36.251277",
     "exception": false,
     "start_time": "2025-08-02T21:36:36.249343",
     "status": "completed"
    },
    "tags": []
   },
   "source": [
    "From the table, we can see that 74.2038% female and 18.8908% survived, but it is not accurate to make the model only through gender. Building a random forest model will be more accurate."
   ]
  },
  {
   "cell_type": "code",
   "execution_count": 4,
   "id": "0347c0f8",
   "metadata": {
    "execution": {
     "iopub.execute_input": "2025-08-02T21:36:36.257323Z",
     "iopub.status.busy": "2025-08-02T21:36:36.256925Z",
     "iopub.status.idle": "2025-08-02T21:36:38.596774Z",
     "shell.execute_reply": "2025-08-02T21:36:38.595680Z"
    },
    "papermill": {
     "duration": 2.345208,
     "end_time": "2025-08-02T21:36:38.598827",
     "exception": false,
     "start_time": "2025-08-02T21:36:36.253619",
     "status": "completed"
    },
    "tags": []
   },
   "outputs": [
    {
     "name": "stdout",
     "output_type": "stream",
     "text": [
      "Your submission was successfully saved!\n"
     ]
    }
   ],
   "source": [
    "from sklearn.ensemble import RandomForestClassifier\n",
    "\n",
    "y = train_data[\"Survived\"]\n",
    "\n",
    "features = [\"Pclass\", \"Sex\", \"SibSp\", \"Parch\"]\n",
    "X = pd.get_dummies(train_data[features])\n",
    "X_test = pd.get_dummies(test_data[features])\n",
    "\n",
    "model = RandomForestClassifier(n_estimators=100, max_depth=5, random_state=1)\n",
    "model.fit(X, y)\n",
    "predictions = model.predict(X_test)\n",
    "\n",
    "output = pd.DataFrame({'PassengerId': test_data.PassengerId, 'Survived': predictions})\n",
    "output.to_csv('submission.csv', index=False)\n",
    "print(\"Your submission was successfully saved!\")"
   ]
  }
 ],
 "metadata": {
  "kaggle": {
   "accelerator": "none",
   "dataSources": [
    {
     "databundleVersionId": 26502,
     "sourceId": 3136,
     "sourceType": "competition"
    }
   ],
   "dockerImageVersionId": 31089,
   "isGpuEnabled": false,
   "isInternetEnabled": false,
   "language": "python",
   "sourceType": "notebook"
  },
  "kernelspec": {
   "display_name": "Python 3",
   "language": "python",
   "name": "python3"
  },
  "language_info": {
   "codemirror_mode": {
    "name": "ipython",
    "version": 3
   },
   "file_extension": ".py",
   "mimetype": "text/x-python",
   "name": "python",
   "nbconvert_exporter": "python",
   "pygments_lexer": "ipython3",
   "version": "3.11.13"
  },
  "papermill": {
   "default_parameters": {},
   "duration": 10.23374,
   "end_time": "2025-08-02T21:36:39.323856",
   "environment_variables": {},
   "exception": null,
   "input_path": "__notebook__.ipynb",
   "output_path": "__notebook__.ipynb",
   "parameters": {},
   "start_time": "2025-08-02T21:36:29.090116",
   "version": "2.6.0"
  }
 },
 "nbformat": 4,
 "nbformat_minor": 5
}
